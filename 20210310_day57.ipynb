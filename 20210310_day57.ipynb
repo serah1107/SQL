{
 "cells": [
  {
   "cell_type": "markdown",
   "metadata": {},
   "source": [
    "# 프로그래머스 -sql - 이름에 el이 들어가는 동물 찾기\n",
    "\n",
    "\n"
   ]
  },
  {
   "cell_type": "code",
   "execution_count": 3,
   "metadata": {},
   "outputs": [],
   "source": [
    "-- 코드를 입력하세요\n",
    "SELECT ANIMAL_ID, NAME\n",
    "FROM ANIMAL_INS\n",
    "WHERE NAME  LIKE '%el%' AND ANIMAL_TYPE = 'Dog'\n",
    "ORDER BY NAME"
   ]
  },
  {
   "cell_type": "markdown",
   "metadata": {},
   "source": [
    "# 프로그래머스 -sql - 오랜 기간 보호한 동물(2)\n",
    "\n",
    "\n",
    "\n"
   ]
  },
  {
   "cell_type": "code",
   "execution_count": null,
   "metadata": {},
   "outputs": [],
   "source": [
    "-- 코드를 입력하세요\n",
    "SELECT ANIMAL_ID , NAME \n",
    "FROM (\n",
    "SELECT ANIMAL_ID, NAME,  RANK() OVER (ORDER BY df ASC) AS df_rank\n",
    "FROM \n",
    "(\n",
    "SELECT  A.ANIMAL_ID, \n",
    "    A.NAME,\n",
    "    DATEDIFF(A.DATETIME , B.DATETIME) AS df\n",
    "FROM ANIMAL_INS A \n",
    "INNER JOIN ANIMAL_OUTS B\n",
    " ON A.ANIMAL_ID = B.ANIMAL_ID \n",
    " AND A.NAME = B.NAME \n",
    " AND A.ANIMAL_TYPE = B.ANIMAL_TYPE\n",
    " )T\n",
    " )TT\n",
    " WHERE df_rank <=2\n"
   ]
  }
 ],
 "metadata": {
  "kernelspec": {
   "display_name": "Python 3",
   "language": "python",
   "name": "python3"
  },
  "language_info": {
   "codemirror_mode": {
    "name": "ipython",
    "version": 3
   },
   "file_extension": ".py",
   "mimetype": "text/x-python",
   "name": "python",
   "nbconvert_exporter": "python",
   "pygments_lexer": "ipython3",
   "version": "3.6.5"
  }
 },
 "nbformat": 4,
 "nbformat_minor": 2
}
