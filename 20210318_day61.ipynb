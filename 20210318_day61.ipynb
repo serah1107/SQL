{
 "cells": [
  {
   "cell_type": "markdown",
   "metadata": {},
   "source": [
    "# 프로그래머스 - 없어진 기록 찾기\n"
   ]
  },
  {
   "cell_type": "code",
   "execution_count": 1,
   "metadata": {},
   "outputs": [],
   "source": [
    "-- 코드를 입력하세요\n",
    "SELECT ANIMAL_ID, A_NAME\n",
    "FROM \n",
    "(\n",
    "    SELECT A.ANIMAL_ID , A.NAME  AS A_NAME, B.NAME AS B_NAME\n",
    "    FROM ANIMAL_OUTS A\n",
    "    LEFT OUTER JOIN ANIMAL_INS B\n",
    "    ON(\n",
    "        A.ANIMAL_ID = B.ANIMAL_ID  \n",
    "        AND A.NAME = B.NAME\n",
    "    )\n",
    ")T1\n",
    "WHERE A_NAME IS NOT NULL \n",
    "AND B_NAME IS NULL"
   ]
  },
  {
   "cell_type": "markdown",
   "metadata": {},
   "source": [
    "# 프로그래머스 - 있었는데요 없었습니다\n",
    "\n"
   ]
  },
  {
   "cell_type": "code",
   "execution_count": null,
   "metadata": {},
   "outputs": [],
   "source": [
    "-- 코드를 입력하세요\n",
    "SELECT ANIMAL_ID , NAME \n",
    "FROM \n",
    "(\n",
    "    SELECT A.ANIMAL_ID, A.NAME , A.DATETIME AS A_DATETIME, B.DATETIME AS B_DATETIME\n",
    "    FROM ANIMAL_INS A\n",
    "    LEFT OUTER JOIN ANIMAL_OUTS B \n",
    "    ON(\n",
    "        A.ANIMAL_ID = B.ANIMAL_ID \n",
    "    )\n",
    ")T1\n",
    "WHERE A_DATETIME > B_DATETIME\n",
    "ORDER BY A_DATETIME\n"
   ]
  },
  {
   "cell_type": "code",
   "execution_count": null,
   "metadata": {},
   "outputs": [],
   "source": []
  }
 ],
 "metadata": {
  "kernelspec": {
   "display_name": "Python 3",
   "language": "python",
   "name": "python3"
  },
  "language_info": {
   "codemirror_mode": {
    "name": "ipython",
    "version": 3
   },
   "file_extension": ".py",
   "mimetype": "text/x-python",
   "name": "python",
   "nbconvert_exporter": "python",
   "pygments_lexer": "ipython3",
   "version": "3.6.5"
  }
 },
 "nbformat": 4,
 "nbformat_minor": 2
}
