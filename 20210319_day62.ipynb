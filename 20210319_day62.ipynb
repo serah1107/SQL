{
 "cells": [
  {
   "cell_type": "markdown",
   "metadata": {},
   "source": [
    "# 프로그래머스 - 오랜 기간 보호한 동물(1)"
   ]
  },
  {
   "cell_type": "code",
   "execution_count": 1,
   "metadata": {},
   "outputs": [],
   "source": [
    "SELECT NAME , A_DATE AS DATETIME \n",
    "FROM (\n",
    "SELECT name, A_DATE , RANK() OVER(order by A_DATE) as rank\n",
    "from\n",
    "(\n",
    "    select a.name , a.datetime as a_date, b.datetime as b_date \n",
    "    from ANIMAL_INS a\n",
    "    LEFT OUTER JOIN ANIMAL_OUTS b \n",
    "    on(\n",
    "     a.animal_id = b. animal_id \n",
    "    )\n",
    ")T1\n",
    "where B_DATE is null \n",
    ")T2\n",
    "WHERE RANK <=3"
   ]
  },
  {
   "cell_type": "markdown",
   "metadata": {},
   "source": [
    "# 프로그래머스 - 보호소에서 중성화한 동물"
   ]
  },
  {
   "cell_type": "code",
   "execution_count": null,
   "metadata": {},
   "outputs": [],
   "source": [
    "-- 코드를 입력하세요\n",
    "\n",
    "SELECT ANIMAL_ID , ANIMAL_TYPE , NAME\n",
    "FROM(\n",
    "SELECT A.ANIMAL_ID ,A.ANIMAL_TYPE , A.NAME , A.SEX_UPON_INTAKE, B.SEX_UPON_OUTCOME\n",
    "FROM ANIMAL_INS A\n",
    "LEFT OUTER JOIN ANIMAL_OUTS B\n",
    "ON (\n",
    "    A.ANIMAL_ID = B.ANIMAL_ID \n",
    ")\n",
    ")T1\n",
    "WHERE   (SEX_UPON_INTAKE NOT LIKE '%Spayed%' AND SEX_UPON_INTAKE NOT LIKE '%Neutered%'\n",
    "         )\n",
    "    AND (SEX_UPON_OUTCOME LIKE '%Spayed%' OR SEX_UPON_OUTCOME LIKE '%Neutered%'\n",
    "    )\n",
    "    AND SEX_UPON_OUTCOME IS NOT NULL \n",
    "    ORDER BY ANIMAL_ID"
   ]
  },
  {
   "cell_type": "code",
   "execution_count": null,
   "metadata": {},
   "outputs": [],
   "source": []
  }
 ],
 "metadata": {
  "kernelspec": {
   "display_name": "Python 3",
   "language": "python",
   "name": "python3"
  },
  "language_info": {
   "codemirror_mode": {
    "name": "ipython",
    "version": 3
   },
   "file_extension": ".py",
   "mimetype": "text/x-python",
   "name": "python",
   "nbconvert_exporter": "python",
   "pygments_lexer": "ipython3",
   "version": "3.6.5"
  }
 },
 "nbformat": 4,
 "nbformat_minor": 2
}
